{
 "cells": [
  {
   "cell_type": "markdown",
   "metadata": {},
   "source": [
    "## 훈련 세트와 테스트 세트\n",
    "### 이번 공부 목적\n",
    "- 지도 학습과 비지도 학습의 차이를 배워보자.\n",
    "- 모델을 훈련시키는 훈련 세트와 모델을 평가하는 테스트 세트로 데터를 나눠서 학습해보자."
   ]
  },
  {
   "attachments": {},
   "cell_type": "markdown",
   "metadata": {},
   "source": [
    "### 1. 지도 학습과 비지도 학습 \n",
    "- 지도 학습(supervised learning): **입력 데이터(데이터)**와 **타깃(정답)**이 있는 상태 즉 **훈련 데이터**가 있는 상태에서 타깃(정답)을 맞추는 학습을 하는 형식 \n",
    "\n",
    "<img src=\"image/supervise_learning_1.jpeg\" height=\"30%\" width=\"30%\"/> \n",
    "\n",
    "- 비지도 학습(unsupervised learning): 알고리즘 타깃(정답) 없이 입력 데이터만 사용하는 형식, 정답을 사용하지 않아 무언가를 맞출 수는 없지만, **데이터를 잘 파악하거나, 변형시키는데 도움을 줌**."
   ]
  },
  {
   "cell_type": "markdown",
   "metadata": {},
   "source": [
    "### 2. 훈련 세트와 테스트 세트\n",
    "- 머신러닝 알고리즘의 성능을 제대로 평가하려면 훈련 데이터와 평가에 사용할 데이터가 각각 달라야 한다.\n",
    "- 가장 간단한 방법은 평가를 위해 또 다른 데이터를 준비하거나 이미 준비된 데이터 중에서 일부를 떼어 내어 확용하는 것이다. (일반적으로 후자의 경우를 많이 사용함)\n",
    "- 평가에 사용하는 데이터를 **테스트 데이터(test set)**, 훈련에 사용되는 데이터를 **훈련 세트(training set)** 이라고 한다."
   ]
  },
  {
   "cell_type": "markdown",
   "metadata": {},
   "source": [
    "### 실전 코드 \n",
    "- chapter1에서 사용한 도미와 빙어 데이터를 하나로 합쳐 리스트로 준비 "
   ]
  },
  {
   "cell_type": "markdown",
   "metadata": {},
   "source": [
    "#### 데이터 준비"
   ]
  },
  {
   "cell_type": "code",
   "execution_count": 1,
   "metadata": {},
   "outputs": [],
   "source": [
    "# 데이터 준비 \n",
    "fish_length = [25.4, 26.3, 26.5, 29.0, 29.0, 29.7, 29.7, 30.0, 30.0, 30.7, 31.0, 31.0, 31.5,\n",
    "               32.0, 32.0, 32.0, 33.0, 33.0, 33.5, 33.5, 34.0, 34.0, 34.5, 35.0, 35.0, 35.0,\n",
    "               35.0, 36.0, 36.0, 37.0, 38.5, 38.5, 39.5, 41.0, 41.0, 9.8, 10.5, 10.6, 11.0, \n",
    "               11.2, 11.3, 11.8, 11.8, 12.0, 12.2, 12.4, 13.0, 14.3, 15.0]\n",
    "fish_weight = [242.0, 290.0, 340.0, 363.0, 430.0, 450.0, 500.0, 390.0, 450.0, 500.0, 475.0,\n",
    "               500.0, 500.0, 340.0, 600.0, 600.0, 700.0, 700.0, 610.0, 650.0, 575.0, 685.0, \n",
    "               620.0, 680.0, 700.0, 725.0, 720.0, 714.0, 850.0, 1000.0, 920.0, 955.0, 925.0,\n",
    "               975.0, 950.0, 6.7, 7.5, 7.0, 9.7, 9.8, 8.7, 10.0, 9.9, 9.8, 12.2, 13.4, 12.2, \n",
    "               19.7, 19.9]"
   ]
  },
  {
   "cell_type": "code",
   "execution_count": 2,
   "metadata": {},
   "outputs": [],
   "source": [
    "# 각 생선의 길이와 무게를 하나의 리스트로 담을 2차원 리스트 만들기\n",
    "fish_data = [[l, w] for l, w in zip(fish_length, fish_weight)]\n",
    "fish_target = [1]*35 + [0]*14"
   ]
  },
  {
   "cell_type": "markdown",
   "metadata": {},
   "source": [
    "- 하나의 생선 데이터를 샘플(sample)이라고 부른다. 도미와 빙어는 각각 35마리, 14마리가 있으므로 전체 데이터는 49개의 샘플이 있다.\n",
    "- 사용하는 특성은 길이와 무게 2개 이다.\n",
    "- 처음 35개를 훈련 세트로, 나머지 14개를 테스트 세트로 사용."
   ]
  },
  {
   "cell_type": "code",
   "execution_count": 3,
   "metadata": {},
   "outputs": [],
   "source": [
    "# 패키지 불러오기 & KNeighborsClassifier 선언 \n",
    "from sklearn.neighbors import KNeighborsClassifier\n",
    "kn = KNeighborsClassifier()"
   ]
  },
  {
   "cell_type": "markdown",
   "metadata": {},
   "source": [
    "#### 인덱싱과 슬라이싱 \n",
    "- 배열의 위치를 하나만 지정 - 인덱싱 \n",
    "- 인덱스의 범위를 지정 - 슬라이싱 "
   ]
  },
  {
   "cell_type": "code",
   "execution_count": 4,
   "metadata": {},
   "outputs": [
    {
     "name": "stdout",
     "output_type": "stream",
     "text": [
      "[29.0, 430.0]\n"
     ]
    }
   ],
   "source": [
    "# 배열의 위치인 인덱스를 지정 - fish_data의 다섯 번째 샘플을 출력\n",
    "print(fish_data[4])"
   ]
  },
  {
   "cell_type": "code",
   "execution_count": 5,
   "metadata": {},
   "outputs": [
    {
     "name": "stdout",
     "output_type": "stream",
     "text": [
      "[[25.4, 242.0], [26.3, 290.0], [26.5, 340.0], [29.0, 363.0], [29.0, 430.0]]\n"
     ]
    }
   ],
   "source": [
    "# 첫 번째 부터 다섯 번째까지의 샘플을 선택 - 슬라이싱\n",
    "print(fish_data[0:5])  # 혹은 print(fish_data[:5])로도 사용 가능 "
   ]
  },
  {
   "cell_type": "code",
   "execution_count": 6,
   "metadata": {},
   "outputs": [
    {
     "name": "stdout",
     "output_type": "stream",
     "text": [
      "[[12.2, 12.2], [12.4, 13.4], [13.0, 12.2], [14.3, 19.7], [15.0, 19.9]]\n"
     ]
    }
   ],
   "source": [
    "# 44번째 부터 끝까지의 샘플 선택 - 슬라이싱\n",
    "print(fish_data[44:])"
   ]
  },
  {
   "cell_type": "markdown",
   "metadata": {},
   "source": [
    "#### 훈련 세트, 테스트 세트 분리 \n",
    "- 인덱스 0 ~ 34까지 처음 35개 샘픙를 훈련 세트로 선택, 인덱스 35 ~ 48까지 나머지 14개 샘플을 테스트 세트로 선택 "
   ]
  },
  {
   "cell_type": "code",
   "execution_count": 7,
   "metadata": {},
   "outputs": [],
   "source": [
    "# 훈련 세트로 입력값 중 0부터 34번째 인덱스까지 사용 \n",
    "train_input = fish_data[:35]"
   ]
  },
  {
   "cell_type": "code",
   "execution_count": 8,
   "metadata": {},
   "outputs": [],
   "source": [
    "# 훈련 세트로 타깃값 중 0부터 34번쨰 인덱스까지 사용 \n",
    "train_target = fish_target[:35]"
   ]
  },
  {
   "cell_type": "code",
   "execution_count": 9,
   "metadata": {},
   "outputs": [],
   "source": [
    "# 테스트 세트로 입력값 중 35번째부터 마지막 인덱스까지 사용\n",
    "test_input = fish_data[35:]"
   ]
  },
  {
   "cell_type": "code",
   "execution_count": 10,
   "metadata": {},
   "outputs": [],
   "source": [
    "# 테스트 세트로 타깃값 중 35번째부터 마지막 인덱스까지 사용 \n",
    "test_target = fish_target[35:]"
   ]
  },
  {
   "cell_type": "markdown",
   "metadata": {},
   "source": [
    "#### 모델 훈련 및 평가 "
   ]
  },
  {
   "cell_type": "code",
   "execution_count": 11,
   "metadata": {},
   "outputs": [
    {
     "data": {
      "text/plain": [
       "0.0"
      ]
     },
     "execution_count": 11,
     "metadata": {},
     "output_type": "execute_result"
    }
   ],
   "source": [
    "kn = kn.fit(train_input, train_target)\n",
    "kn.score(test_input, test_target)"
   ]
  },
  {
   "cell_type": "markdown",
   "metadata": {},
   "source": [
    "- 앞에 chapter 1와 평가가 다르게 나옴, 정확도는 0.0 즉 0%로 나왔다. \n",
    "- 어떤 문제가 있을 것으로 판단 해당 사항을 알아보고자 한다."
   ]
  },
  {
   "cell_type": "markdown",
   "metadata": {},
   "source": [
    "### 3. 샘플링 편향 "
   ]
  },
  {
   "cell_type": "markdown",
   "metadata": {},
   "source": [
    "- 위의 train set와 test set이 골고류 분류되지 않았다. \n",
    "- 결론적으로 도미 35개의 데이터를 trian, 빙어의 14개의 데이터를 test로 분류 하였다. 원래라면 골고루 데이터가 섞여 있어야한다.\n",
    "- 이처럼 일반적으로 훈련 세트와 테스트 세트에 샘플이 골고루 섞여 있지 않으면 샘플링이 한쪽으로 치우쳤다는 의미로 **샘플링 편향(sampling bias)** 라고 부른다.\n",
    "- 훈련 세트와 테스트 세트를 나누기 전에 데이터를 섞든지 아니면 골고루 샘플을 뽑아서 훈련 세트와 테스트 세트를 만들어야 한다. 이런 작업을 간편하게 처리할 수 있도록 파이썬 라이브러리인 **넘파이** 대해 알아보고자 한다."
   ]
  },
  {
   "cell_type": "markdown",
   "metadata": {},
   "source": [
    "### 4. 넘파이 \n",
    "- 넘파이(Numpy)는 파이썬의 대표적인 배열(array) 라이브러리 이다.\n",
    "- 넘파이는 고차원의 배열을 손쉽게 만들고 조작할 수 있는 간편한 도구들을 많이 제공함.\n",
    "- 1차원 배열은 선이고, 2차원 배열은 면, 3차원 배열은 3차원 공간을 나타낸다.\n",
    "\n",
    "<img src=\"image/numpy.jpeg\" height=\"50%\" width=\"50%\"/>\n",
    "\n",
    "- 보통의 xy 좌표계와는 달리 시작점이 왼쪽 아래가 아니고 왼쪽 위에서부터 시작"
   ]
  },
  {
   "cell_type": "markdown",
   "metadata": {},
   "source": [
    "#### 패키지 불러오기 & 배열 변환  "
   ]
  },
  {
   "cell_type": "code",
   "execution_count": 12,
   "metadata": {},
   "outputs": [],
   "source": [
    "# 패키지 임포트 \n",
    "import numpy as np"
   ]
  },
  {
   "cell_type": "code",
   "execution_count": 13,
   "metadata": {},
   "outputs": [],
   "source": [
    "# 파이썬 리스트를 넘파이 배열로 바꾸기는 매우 쉬움 -> 넘파이 array() 함수에 파이썬 리스트를 전달 \n",
    "input_arr = np.array(fish_data)\n",
    "target_arr = np.array(fish_target)"
   ]
  },
  {
   "cell_type": "code",
   "execution_count": 14,
   "metadata": {},
   "outputs": [
    {
     "name": "stdout",
     "output_type": "stream",
     "text": [
      "[[  25.4  242. ]\n",
      " [  26.3  290. ]\n",
      " [  26.5  340. ]\n",
      " [  29.   363. ]\n",
      " [  29.   430. ]\n",
      " [  29.7  450. ]\n",
      " [  29.7  500. ]\n",
      " [  30.   390. ]\n",
      " [  30.   450. ]\n",
      " [  30.7  500. ]\n",
      " [  31.   475. ]\n",
      " [  31.   500. ]\n",
      " [  31.5  500. ]\n",
      " [  32.   340. ]\n",
      " [  32.   600. ]\n",
      " [  32.   600. ]\n",
      " [  33.   700. ]\n",
      " [  33.   700. ]\n",
      " [  33.5  610. ]\n",
      " [  33.5  650. ]\n",
      " [  34.   575. ]\n",
      " [  34.   685. ]\n",
      " [  34.5  620. ]\n",
      " [  35.   680. ]\n",
      " [  35.   700. ]\n",
      " [  35.   725. ]\n",
      " [  35.   720. ]\n",
      " [  36.   714. ]\n",
      " [  36.   850. ]\n",
      " [  37.  1000. ]\n",
      " [  38.5  920. ]\n",
      " [  38.5  955. ]\n",
      " [  39.5  925. ]\n",
      " [  41.   975. ]\n",
      " [  41.   950. ]\n",
      " [   9.8    6.7]\n",
      " [  10.5    7.5]\n",
      " [  10.6    7. ]\n",
      " [  11.     9.7]\n",
      " [  11.2    9.8]\n",
      " [  11.3    8.7]\n",
      " [  11.8   10. ]\n",
      " [  11.8    9.9]\n",
      " [  12.     9.8]\n",
      " [  12.2   12.2]\n",
      " [  12.4   13.4]\n",
      " [  13.    12.2]\n",
      " [  14.3   19.7]\n",
      " [  15.    19.9]]\n"
     ]
    }
   ],
   "source": [
    "# input 배열 출력 \n",
    "print(input_arr)"
   ]
  },
  {
   "cell_type": "markdown",
   "metadata": {},
   "source": [
    "- 넘파이는 친절하게 배열의 차원을 구분하기 쉽도록 행과 열을 가지런히 출력 함."
   ]
  },
  {
   "cell_type": "code",
   "execution_count": 15,
   "metadata": {},
   "outputs": [
    {
     "name": "stdout",
     "output_type": "stream",
     "text": [
      "(49, 2)\n"
     ]
    }
   ],
   "source": [
    "# shape: 배열의 크기를 알려줌 -> 이 명령을 사용하면 (샘플 수, 특성 수)를 출력함.\n",
    "print(input_arr.shape)"
   ]
  },
  {
   "cell_type": "markdown",
   "metadata": {},
   "source": [
    "- 데이터를 넘파이 배열로 준비 완료, 이제 랜덤하게 샘플을 선택해 훈련 세트와 테스트 세트로 만들기\n",
    "- 주의 할 점은 input_arr와 target_arr에서 같은 위치는 함께 선택해야 됨.(예를 들어 input_arr의 두 번째 값은 훈련 세트로 target_arr의 두 번째 값은 테스트 세트로 가면 안됨)\n",
    "- 훈련 세트와 테스트 세트로 나눌 인덱스값을 잘 기억해야 함."
   ]
  },
  {
   "cell_type": "markdown",
   "metadata": {},
   "source": [
    "#### 데이터 랜덤하게 섞기 "
   ]
  },
  {
   "cell_type": "code",
   "execution_count": 16,
   "metadata": {},
   "outputs": [],
   "source": [
    "# 일정한 결과를 얻기위해 초기에 랜덤시드를 지정 \n",
    "np.random.seed(42)   # 랜덤시드 지정\n",
    "index = np.arange(49)  # 0부터 48까지의 인덱스 만들기 (arange 함수 사용)\n",
    "np.random.shuffle(index)  # 랜덤하게 섞기 "
   ]
  },
  {
   "cell_type": "code",
   "execution_count": 17,
   "metadata": {},
   "outputs": [
    {
     "name": "stdout",
     "output_type": "stream",
     "text": [
      "[13 45 47 44 17 27 26 25 31 19 12  4 34  8  3  6 40 41 46 15  9 16 24 33\n",
      " 30  0 43 32  5 29 11 36  1 21  2 37 35 23 39 10 22 18 48 20  7 42 14 28\n",
      " 38]\n"
     ]
    }
   ],
   "source": [
    "# 인덱스 출력 \n",
    "print(index)"
   ]
  },
  {
   "cell_type": "code",
   "execution_count": 18,
   "metadata": {},
   "outputs": [
    {
     "name": "stdout",
     "output_type": "stream",
     "text": [
      "[[ 26.3 290. ]\n",
      " [ 29.  363. ]]\n"
     ]
    }
   ],
   "source": [
    "# 배열 인댁싱으로 input_arr의 두 번째와 네 번째 샘플을 선택 \n",
    "print(input_arr[[1, 3]])"
   ]
  },
  {
   "cell_type": "markdown",
   "metadata": {},
   "source": [
    "#### 섞인 데이터로 다시 훈련 세트와 타깃 세트를 분류하기 "
   ]
  },
  {
   "cell_type": "code",
   "execution_count": 19,
   "metadata": {},
   "outputs": [],
   "source": [
    "# 35개로 train set 만들기 \n",
    "train_input = input_arr[index[:35]]\n",
    "train_target = target_arr[index[:35]]"
   ]
  },
  {
   "cell_type": "code",
   "execution_count": 20,
   "metadata": {},
   "outputs": [
    {
     "name": "stdout",
     "output_type": "stream",
     "text": [
      "[ 32. 340.] [ 32. 340.]\n"
     ]
    }
   ],
   "source": [
    "# 첫 번째 인텍스 값 비교 확인\n",
    "print(input_arr[13], train_input[0])"
   ]
  },
  {
   "cell_type": "code",
   "execution_count": 21,
   "metadata": {},
   "outputs": [],
   "source": [
    "# 나머지 14개로 test set 만들기 \n",
    "test_input = input_arr[index[35:]]\n",
    "test_target = target_arr[index[35:]]"
   ]
  },
  {
   "cell_type": "code",
   "execution_count": 22,
   "metadata": {},
   "outputs": [
    {
     "data": {
      "image/png": "[encoded data removed]",
      "text/plain": [
       "<Figure size 432x288 with 1 Axes>"
      ]
     },
     "metadata": {
      "image/png": {
       "height": 266,
       "width": 398
      }
     },
     "output_type": "display_data"
    }
   ],
   "source": [
    "# 훈련 세트와 테스트 세트에 도미와 빙어가 잘 섞여 있는지 산점도로 나타내가\n",
    "import matplotlib.pyplot as plt\n",
    "plt.scatter(train_input[:,0], train_input[:,1])  # 2차원 배열은 행과 열 인덱스를 콤마로 나누어 지정, 각각의 특성을 분리하여 출력 \n",
    "plt.scatter(test_input[:,0], test_input[:,1])\n",
    "plt.xlabel('length')\n",
    "plt.ylabel('weight')\n",
    "plt.show()"
   ]
  },
  {
   "cell_type": "markdown",
   "metadata": {},
   "source": [
    "- 파란색이 훈련 세트, 주황색이 테스트 세트 이다. 도미와 빙어 모두 골고루 섞여있음을 확인 "
   ]
  },
  {
   "cell_type": "markdown",
   "metadata": {},
   "source": [
    "### 5. 두 번째 머신러닝 프로그램 \n",
    "- 앞서 만든 훈련 세트와 테스트 세트로 K-최근접 이웃 모델을 훈련시키기 - .fit() 매서드 실행 "
   ]
  },
  {
   "cell_type": "markdown",
   "metadata": {},
   "source": [
    "#### 모델 훈련 "
   ]
  },
  {
   "cell_type": "code",
   "execution_count": 23,
   "metadata": {},
   "outputs": [],
   "source": [
    "# 다시 모델 훈련하기 - train 데이터\n",
    "kn = kn.fit(train_input, train_target)"
   ]
  },
  {
   "cell_type": "markdown",
   "metadata": {},
   "source": [
    "#### 모델 훈련 후 정확도 측정"
   ]
  },
  {
   "cell_type": "code",
   "execution_count": 24,
   "metadata": {},
   "outputs": [
    {
     "data": {
      "text/plain": [
       "1.0"
      ]
     },
     "execution_count": 24,
     "metadata": {},
     "output_type": "execute_result"
    }
   ],
   "source": [
    "# 모델 훈련 후 정확도 측정 \n",
    "kn.score(test_input, test_target)"
   ]
  },
  {
   "cell_type": "markdown",
   "metadata": {},
   "source": [
    "- 100% 정확도가 나옴."
   ]
  },
  {
   "cell_type": "markdown",
   "metadata": {},
   "source": [
    "#### 예측 결과와 실제 타깃 확인하기 "
   ]
  },
  {
   "cell_type": "code",
   "execution_count": 25,
   "metadata": {},
   "outputs": [
    {
     "data": {
      "text/plain": [
       "array([0, 0, 1, 0, 1, 1, 1, 0, 1, 1, 0, 1, 1, 0])"
      ]
     },
     "execution_count": 25,
     "metadata": {},
     "output_type": "execute_result"
    }
   ],
   "source": [
    "# 예측 결과\n",
    "kn.predict(test_input)"
   ]
  },
  {
   "cell_type": "code",
   "execution_count": 26,
   "metadata": {},
   "outputs": [
    {
     "data": {
      "text/plain": [
       "array([0, 0, 1, 0, 1, 1, 1, 0, 1, 1, 0, 1, 1, 0])"
      ]
     },
     "execution_count": 26,
     "metadata": {},
     "output_type": "execute_result"
    }
   ],
   "source": [
    "test_target"
   ]
  },
  {
   "cell_type": "markdown",
   "metadata": {},
   "source": [
    "- 테스트 세트에 대한 예측 결과가 정답과 일치"
   ]
  },
  {
   "cell_type": "markdown",
   "metadata": {},
   "source": [
    "### 문제 해결 과정 및 결론 \n",
    "- 문제 해결 과정 \n",
    "    - chapter 1의 모델 평가 방식이 이상다는 의견을 제기\n",
    "    - 모델을 훈련할 때 사용하는 데이터로 모델의 성능을 평가하는 것은 정답을 미리 알려주고 시험을 보는 것과 같음, 공정하게 점수를 매기지 않기 위해서는 훈련에 참여하지 않은 샘플을 이용해야 한다고 판단.\n",
    "    - 훈련 데이터를 훈련 세트와 테스트 세트로 나눔 (훈련 세트는 모델 훈련을, 테스트 세트는 모델을 평가를)\n",
    "    - 하지만 테스트 세트를 무작정 나누어선 안됨, 도미와 빙어를 분류하는 것이 목적이므로 훈련 세트나 테스트 세트에 어느 한 생선만 들어가면 올바른 학습이 이루어지기 힘듬.\n",
    "    - 골고루 데이터를 섞기 위해 넘파이 라이브러리에 shuffle 함수를 사용. 배열의 인덱스를 섞어 다시 모델을 훈련시킴\n",
    "- 결과 \n",
    "    - 테스트 세트에서 100% 정확도를 달성함"
   ]
  },
  {
   "cell_type": "code",
   "execution_count": null,
   "metadata": {},
   "outputs": [],
   "source": []
  }
 ],
 "metadata": {
  "kernelspec": {
   "display_name": "Python 3",
   "language": "python",
   "name": "python3"
  },
  "language_info": {
   "codemirror_mode": {
    "name": "ipython",
    "version": 3
   },
   "file_extension": ".py",
   "mimetype": "text/x-python",
   "name": "python",
   "nbconvert_exporter": "python",
   "pygments_lexer": "ipython3",
   "version": "3.8.5"
  }
 },
 "nbformat": 4,
 "nbformat_minor": 4
}
